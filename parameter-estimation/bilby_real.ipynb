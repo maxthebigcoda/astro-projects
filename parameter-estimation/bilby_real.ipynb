{
 "cells": [
  {
   "cell_type": "code",
   "execution_count": 1,
   "metadata": {},
   "outputs": [
    {
     "name": "stderr",
     "output_type": "stream",
     "text": [
      "PyCBC.libutils: pkg-config call failed, setting NO_PKGCONFIG=1\n"
     ]
    }
   ],
   "source": [
    "import pycbc\n",
    "from pycbc.psd import interpolate, welch\n",
    "from pycbc.filter import highpass_fir, lowpass_fir\n",
    "from pycbc.types import TimeSeries\n",
    "import bilby\n",
    "from bilby.gw import detector\n",
    "from pycbc.catalog import Merger\n",
    "import numpy as np"
   ]
  },
  {
   "cell_type": "code",
   "execution_count": 2,
   "metadata": {},
   "outputs": [],
   "source": [
    "# Function to whiten data\n",
    "def whiten_data(ifo, event_name=\"GW170104\"):\n",
    "    h1 = Merger(event_name).strain(ifo) # load in data of certain event from certain interferometer\n",
    "    \n",
    "    h1 = highpass_fir(h1, 15, 8) # apply filter to remove lower frequencys\n",
    "\n",
    "    psd = interpolate(welch(h1), 1.0 / h1.duration) # calculate the psd\n",
    "    \n",
    "    white_strain = (h1.to_frequencyseries() / psd ** 0.5).to_timeseries() #whitening the data\n",
    "\n",
    "    smooth = highpass_fir(white_strain, 35, 8)\n",
    "    smooth = lowpass_fir(smooth, 300, 8) # applying a low and high pass filter to further remove the noise\n",
    "\n",
    "    if ifo == 'L1':\n",
    "        smooth *= -1\n",
    "        smooth.roll(int(.007 / smooth.delta_t))  # flip the L1 due to phase orientaion and apply time shift to accout for distance differene between h1 and l1\n",
    "\n",
    "    return smooth\n",
    "\n",
    "ifos = bilby.gw.detector.InterferometerList([\"H1\", \"L1\"]) # setting up interferometer list \n",
    "\n",
    "for ifo in ['H1', 'L1']:\n",
    "    smooth_strain = whiten_data(ifo)\n",
    "    ifo_object = ifos[0] if ifo == 'H1' else ifos[1]\n",
    "    ifo_object.strain_data = smooth_strain # load in the whitened data for both inteferometers\n",
    "\n"
   ]
  },
  {
   "cell_type": "code",
   "execution_count": 13,
   "metadata": {},
   "outputs": [
    {
     "name": "stderr",
     "output_type": "stream",
     "text": [
      "13:34 bilby INFO    : Waveform generator initiated with\n",
      "  frequency_domain_source_model: bilby.gw.source.lal_binary_black_hole\n",
      "  time_domain_source_model: None\n",
      "  parameter_conversion: bilby.gw.conversion.convert_to_lal_binary_black_hole_parameters\n"
     ]
    }
   ],
   "source": [
    "delta_t = smooth_strain.sample_times[1] - smooth_strain.sample_times[0]\n",
    "start_time = smooth_strain.sample_times[0]\n",
    "duration = len(smooth_strain)*delta_t\n",
    "sampling_frequency = 4096.0\n",
    "minimum_frequency = 35\n",
    "\n",
    "waveform_arguments = dict(\n",
    "    waveform_approximant=\"IMRPhenomPv2\",\n",
    "    reference_frequency=50.0,\n",
    "    minimum_frequency=minimum_frequency,\n",
    "    \n",
    ")\n",
    "\n",
    "waveform_generator = bilby.gw.WaveformGenerator(\n",
    "    duration=duration,\n",
    "    sampling_frequency=4096.0,\n",
    "    frequency_domain_source_model=bilby.gw.source.lal_binary_black_hole,\n",
    "    parameter_conversion=bilby.gw.conversion.convert_to_lal_binary_black_hole_parameters,\n",
    "    waveform_arguments=waveform_arguments,\n",
    ")\n",
    "\n",
    "\n",
    "\n",
    "ifos = bilby.gw.detector.InterferometerList([\"H1\", \"L1\"])\n",
    "ifos.set_strain_data_from_power_spectral_densities(\n",
    "    sampling_frequency=sampling_frequency,\n",
    "    duration=duration,\n",
    "    start_time=start_time,\n",
    ")\n",
    "\n",
    "# Set up priors\n",
    "# priors = bilby.gw.prior.BBHPriorDict()\n",
    "priors = dict(\n",
    "    mass_1 = bilby.core.prior.Uniform(minimum = 28,maximum = 34),\n",
    "    mass_2 = bilby.core.prior.Uniform(minimum = 18, maximum = 22),\n",
    "    luminosity_distance = bilby.core.prior.Uniform(minimum = 950 , maximum = 1050),\n",
    "    # geocent_time = bilby.core.prior.Uniform(minimum=0.0,maximum = 32.0), # time prior\n",
    "    tilt_2 = bilby.core.prior.Sine(0, np.pi)\n",
    ")\n",
    "\n",
    "\n",
    "# Fix all other parameters to specific values\n",
    "fixed_params = {\n",
    "    \"geocent_time\": 0,  # fix merger time\n",
    "    \"phase\": 0,  # fix phase\n",
    "    \"iota\": np.pi/3,  # fix inclination angle\n",
    "    \"a_1\": 0,  # fix spin magnitude 1\n",
    "    \"a_2\": 0,  # fix spin magnitude 2\n",
    "    \"tilt_1\": 0,  # fix spin tilt 1\n",
    "    \"ra\": 1.0,  # fix right ascension\n",
    "    \"dec\": 0.5,  # fix declination\n",
    "    \"psi\": 0.1, \n",
    "    \"theta_jn\":0.5 # fix polarization angle\n",
    "}\n",
    "\n",
    "for key, value in fixed_params.items():\n",
    "    priors[key] = value \n",
    "\n",
    "# priors[\"mass_1\"] = bilby.core.prior.Uniform(minimum=20.0, maximum=45.0)  # mass 1 prior\n",
    "# priors[\"mass_2\"] = bilby.core.prior.Uniform(minimum=20.0, maximum=45.0)  #mass 2 prior \n",
    "# priors[\"luminosity_distance\"] = bilby.core.prior.Uniform(minimum=1000.0, maximum=2500.0)  # distance prior\n",
    "\n",
    "likelihood = bilby.gw.GravitationalWaveTransient( #setting up likelihood function\n",
    "    interferometers=ifos, waveform_generator=waveform_generator\n",
    ")"
   ]
  },
  {
   "cell_type": "code",
   "execution_count": 14,
   "metadata": {},
   "outputs": [
    {
     "name": "stderr",
     "output_type": "stream",
     "text": [
      "13:34 bilby INFO    : Running for label 'GW170104', output will be saved to 'outdir'\n",
      "13:34 bilby INFO    : Using lal version 7.3.1\n",
      "13:34 bilby INFO    : Using lal git version Branch: None;Tag: lalsuite-v7.19;Id: 84d780c102cf51ea1fdf7a1cbf0a626a5eca0d0a;;Builder: Duncan Macleod <duncan.macleod@ligo.org>;Repository status: CLEAN: All modifications committed\n",
      "13:34 bilby INFO    : Using lalsimulation version 5.2.1\n",
      "13:34 bilby INFO    : Using lalsimulation git version Branch: None;Tag: lalsuite-v7.19;Id: 84d780c102cf51ea1fdf7a1cbf0a626a5eca0d0a;;Builder: Duncan Macleod <duncan.macleod@ligo.org>;Repository status: CLEAN: All modifications committed\n",
      "/Users/maxrobertson/code/Grav Waves/venv/lib/python3.9/site-packages/bilby/core/utils/log.py:73: UserWarning: The '__version__' attribute is deprecated and will be removed in MarkupSafe 3.1. Use feature detection, or `importlib.metadata.version(\"markupsafe\")`, instead.\n",
      "  vdict[key] = str(getattr(sys.modules[key], \"__version__\", \"N/A\"))\n",
      "WARNING: You are using pip version 21.2.3; however, version 25.0.1 is available.\n",
      "You should consider upgrading via the '/Users/maxrobertson/code/Grav Waves/venv/bin/python -m pip install --upgrade pip' command.\n",
      "13:34 bilby INFO    : Analysis priors:\n",
      "13:34 bilby INFO    : mass_1=Uniform(minimum=28, maximum=34, name=None, latex_label=None, unit=None, boundary=None)\n",
      "13:34 bilby INFO    : mass_2=Uniform(minimum=18, maximum=22, name=None, latex_label=None, unit=None, boundary=None)\n",
      "13:34 bilby INFO    : luminosity_distance=Uniform(minimum=950, maximum=1050, name=None, latex_label=None, unit=None, boundary=None)\n",
      "13:34 bilby INFO    : tilt_2=Sine(minimum=0, maximum=3.141592653589793, name=None, latex_label=None, unit=None, boundary=None)\n",
      "13:34 bilby INFO    : geocent_time=0\n",
      "13:34 bilby INFO    : phase=0\n",
      "13:34 bilby INFO    : iota=1.0471975511965976\n",
      "13:34 bilby INFO    : a_1=0\n",
      "13:34 bilby INFO    : a_2=0\n",
      "13:34 bilby INFO    : tilt_1=0\n",
      "13:34 bilby INFO    : ra=1.0\n",
      "13:34 bilby INFO    : dec=0.5\n",
      "13:34 bilby INFO    : psi=0.1\n",
      "13:34 bilby INFO    : theta_jn=0.5\n",
      "13:34 bilby INFO    : Analysis likelihood class: <class 'bilby.gw.likelihood.base.GravitationalWaveTransient'>\n",
      "13:34 bilby INFO    : Analysis likelihood noise evidence: -129975.56748959163\n",
      "13:34 bilby INFO    : Single likelihood evaluation took nan s\n",
      "13:34 bilby INFO    : Using sampler Dynesty with kwargs {'nlive': 1, 'bound': 'live', 'sample': 'act-walk', 'periodic': None, 'reflective': None, 'update_interval': 600, 'first_update': None, 'npdim': None, 'rstate': None, 'queue_size': 1, 'pool': None, 'use_pool': None, 'live_points': None, 'logl_args': None, 'logl_kwargs': None, 'ptform_args': None, 'ptform_kwargs': None, 'gradient': None, 'grad_args': None, 'grad_kwargs': None, 'compute_jac': False, 'enlarge': None, 'bootstrap': None, 'walks': 100, 'facc': 0.2, 'slices': None, 'fmove': 0.9, 'max_move': 100, 'update_func': None, 'ncdim': None, 'blob': False, 'save_history': False, 'history_filename': None, 'maxiter': None, 'maxcall': None, 'dlogz': 0.1, 'logl_max': inf, 'n_effective': None, 'add_live': True, 'print_progress': True, 'print_func': <bound method Dynesty._print_func of <bilby.core.sampler.dynesty.Dynesty object at 0x7ff70a951460>>, 'save_bounds': False, 'checkpoint_file': None, 'checkpoint_every': 60, 'resume': False, 'seed': None}\n",
      "13:34 bilby INFO    : Checkpoint every check_point_delta_t = 600s\n",
      "13:34 bilby INFO    : Using dynesty version 2.1.5\n",
      "13:34 bilby INFO    : Using the bilby-implemented act-walk sampling tracking the autocorrelation function and thinning by 2 with maximum length 10000\n",
      "13:34 bilby INFO    : Reading resume file outdir/GW170104_resume.pickle\n",
      "13:34 bilby INFO    : Resume file successfully loaded.\n"
     ]
    },
    {
     "name": "stdout",
     "output_type": "stream",
     "text": [
      "41it [1:27:17, ?it/s]"
     ]
    },
    {
     "name": "stderr",
     "output_type": "stream",
     "text": [
      "15:01 bilby INFO    : Run interrupted by signal 2: checkpoint and exit on 130\n",
      "15:01 bilby INFO    : Written checkpoint file outdir/GW170104_resume.pickle\n"
     ]
    },
    {
     "name": "stdout",
     "output_type": "stream",
     "text": [
      "\n",
      "Exception while calling loglikelihood function:\n",
      "  params: [ 32.69132869  18.88496365 998.329508     2.03178378]\n",
      "  args: []\n",
      "  kwargs: {}\n",
      "  exception:\n"
     ]
    },
    {
     "name": "stderr",
     "output_type": "stream",
     "text": [
      "Traceback (most recent call last):\n",
      "  File \"/Users/maxrobertson/code/Grav Waves/venv/lib/python3.9/site-packages/dynesty/dynesty.py\", line 913, in __call__\n",
      "    return self.func(np.asarray(x).copy(), *self.args, **self.kwargs)\n",
      "  File \"/Users/maxrobertson/code/Grav Waves/venv/lib/python3.9/site-packages/bilby/core/sampler/dynesty.py\", line 53, in _log_likelihood_wrapper\n",
      "    return _sampling_convenience_dump.likelihood.log_likelihood_ratio()\n",
      "  File \"/Users/maxrobertson/code/Grav Waves/venv/lib/python3.9/site-packages/bilby/gw/likelihood/base.py\", line 420, in log_likelihood_ratio\n",
      "    per_detector_snr = self.calculate_snrs(\n",
      "  File \"/Users/maxrobertson/code/Grav Waves/venv/lib/python3.9/site-packages/bilby/gw/likelihood/base.py\", line 275, in calculate_snrs\n",
      "    signal = self._compute_full_waveform(\n",
      "  File \"/Users/maxrobertson/code/Grav Waves/venv/lib/python3.9/site-packages/bilby/gw/likelihood/base.py\", line 709, in _compute_full_waveform\n",
      "    return interferometer.get_detector_response(signal_polarizations, self.parameters)\n",
      "  File \"/Users/maxrobertson/code/Grav Waves/venv/lib/python3.9/site-packages/bilby/gw/detector/interferometer.py\", line 331, in get_detector_response\n",
      "    signal_ifo[mask] = signal_ifo[mask] * np.exp(-1j * 2 * np.pi * dt * frequencies)\n",
      "  File \"/Users/maxrobertson/code/Grav Waves/venv/lib/python3.9/site-packages/bilby/core/sampler/dynesty.py\", line 783, in write_current_state_and_exit\n",
      "    super(Dynesty, self).write_current_state_and_exit(signum=signum, frame=frame)\n",
      "  File \"/Users/maxrobertson/code/Grav Waves/venv/lib/python3.9/site-packages/bilby/core/sampler/base_sampler.py\", line 749, in write_current_state_and_exit\n",
      "    sys.exit(self.exit_code)\n",
      "SystemExit: 130\n"
     ]
    },
    {
     "ename": "SystemExit",
     "evalue": "130",
     "output_type": "error",
     "traceback": [
      "An exception has occurred, use %tb to see the full traceback.\n",
      "\u001b[0;31mSystemExit\u001b[0m\u001b[0;31m:\u001b[0m 130\n"
     ]
    },
    {
     "name": "stderr",
     "output_type": "stream",
     "text": [
      "/Users/maxrobertson/code/Grav Waves/venv/lib/python3.9/site-packages/IPython/core/interactiveshell.py:3558: UserWarning: To exit: use 'exit', 'quit', or Ctrl-D.\n",
      "  warn(\"To exit: use 'exit', 'quit', or Ctrl-D.\", stacklevel=1)\n"
     ]
    }
   ],
   "source": [
    "outdir = \"outdir\" # where data will be saved\n",
    "label = \"GW170104\"\n",
    "bilby.core.utils.setup_logger(outdir=outdir, label=label)\n",
    "\n",
    "result = bilby.run_sampler(\n",
    "    likelihood=likelihood, # running dynesty \n",
    "    priors=priors,\n",
    "    sampler=\"dynesty\",\n",
    "    npoints=1,\n",
    "    outdir=outdir,\n",
    "    label=label,\n",
    ")\n",
    "\n",
    "result.plot_corner()"
   ]
  },
  {
   "cell_type": "markdown",
   "metadata": {},
   "source": [
    "# need to make a dictionary of all the priors otherwise it does it for all 15"
   ]
  },
  {
   "cell_type": "code",
   "execution_count": null,
   "metadata": {},
   "outputs": [],
   "source": []
  },
  {
   "cell_type": "code",
   "execution_count": null,
   "metadata": {},
   "outputs": [],
   "source": []
  }
 ],
 "metadata": {
  "kernelspec": {
   "display_name": "venv",
   "language": "python",
   "name": "python3"
  },
  "language_info": {
   "codemirror_mode": {
    "name": "ipython",
    "version": 3
   },
   "file_extension": ".py",
   "mimetype": "text/x-python",
   "name": "python",
   "nbconvert_exporter": "python",
   "pygments_lexer": "ipython3",
   "version": "3.9.7"
  }
 },
 "nbformat": 4,
 "nbformat_minor": 2
}
